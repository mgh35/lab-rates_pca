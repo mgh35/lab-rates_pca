{
 "cells": [
  {
   "cell_type": "code",
   "execution_count": 1,
   "metadata": {},
   "outputs": [],
   "source": [
    "%load_ext autoreload\n",
    "%autoreload 2"
   ]
  },
  {
   "cell_type": "code",
   "execution_count": 5,
   "metadata": {},
   "outputs": [],
   "source": [
    "from getpass import getpass\n",
    "import os\n",
    "import pandas as pd\n",
    "from pathlib import Path\n",
    "import quandl\n",
    "from sklearn.decomposition import PCA"
   ]
  },
  {
   "cell_type": "code",
   "execution_count": 6,
   "metadata": {},
   "outputs": [
    {
     "name": "stdin",
     "output_type": "stream",
     "text": [
      "Quandl API Key ····················\n"
     ]
    }
   ],
   "source": [
    "quandl_api_key = getpass('Quandl API Key')"
   ]
  },
  {
   "cell_type": "code",
   "execution_count": 7,
   "metadata": {},
   "outputs": [],
   "source": [
    "def get_rates():\n",
    "    cache_file = Path(\"rates.csv\")\n",
    "    if cache_file.exists():\n",
    "        return pd.read_csv(cache_file).set_index([\"Date\"])\n",
    "\n",
    "    rates = quandl.get(\n",
    "        [f\"FRED/DGS{tenor}\" for tenor in [2, 5, 7, 10, 30]],\n",
    "        start_date=\"2000-01-01\",\n",
    "        collapse=\"monthly\",\n",
    "        transform=\"diff\",\n",
    "        authtoken=quandl_api_key\n",
    "    ).dropna()\n",
    "    rates.to_csv(cache_file)\n",
    "    return rates"
   ]
  },
  {
   "cell_type": "code",
   "execution_count": 8,
   "metadata": {},
   "outputs": [],
   "source": [
    "rates = get_rates()"
   ]
  },
  {
   "cell_type": "code",
   "execution_count": 9,
   "metadata": {},
   "outputs": [
    {
     "data": {
      "text/plain": [
       "PCA(copy=True, iterated_power='auto', n_components=None, random_state=None,\n",
       "    svd_solver='auto', tol=0.0, whiten=False)"
      ]
     },
     "execution_count": 9,
     "metadata": {},
     "output_type": "execute_result"
    }
   ],
   "source": [
    "pca = PCA()\n",
    "pca.fit(rates)"
   ]
  },
  {
   "cell_type": "code",
   "execution_count": 10,
   "metadata": {},
   "outputs": [
    {
     "name": "stdout",
     "output_type": "stream",
     "text": [
      "[[-0.35058342 -0.47315189 -0.49481541 -0.48693251 -0.41385141]\n",
      " [ 0.64220107  0.29231193  0.05280315 -0.23310326 -0.66708786]\n",
      " [-0.63465824  0.2815649   0.37866284  0.26671034 -0.55082681]\n",
      " [ 0.20940748 -0.40728039 -0.30362855  0.78846213 -0.27642063]\n",
      " [ 0.1342627  -0.66747653  0.71888364 -0.12550961 -0.06246805]]\n",
      "[0.86503327 0.10495049 0.02417499 0.00408606 0.00175519]\n"
     ]
    }
   ],
   "source": [
    "print(pca.components_)\n",
    "print(pca.explained_variance_ratio_)"
   ]
  }
 ],
 "metadata": {
  "kernelspec": {
   "display_name": "Python 3",
   "language": "python",
   "name": "python3"
  },
  "language_info": {
   "codemirror_mode": {
    "name": "ipython",
    "version": 3
   },
   "file_extension": ".py",
   "mimetype": "text/x-python",
   "name": "python",
   "nbconvert_exporter": "python",
   "pygments_lexer": "ipython3",
   "version": "3.8.1"
  }
 },
 "nbformat": 4,
 "nbformat_minor": 4
}
